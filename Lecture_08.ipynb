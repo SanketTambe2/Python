{
  "nbformat": 4,
  "nbformat_minor": 0,
  "metadata": {
    "colab": {
      "provenance": [],
      "authorship_tag": "ABX9TyOy4j263VJ7mWN/YBADQOw2",
      "include_colab_link": true
    },
    "kernelspec": {
      "name": "python3",
      "display_name": "Python 3"
    },
    "language_info": {
      "name": "python"
    }
  },
  "cells": [
    {
      "cell_type": "markdown",
      "metadata": {
        "id": "view-in-github",
        "colab_type": "text"
      },
      "source": [
        "<a href=\"https://colab.research.google.com/github/SanketTambe2/Python/blob/main/Lecture_08.ipynb\" target=\"_parent\"><img src=\"https://colab.research.google.com/assets/colab-badge.svg\" alt=\"Open In Colab\"/></a>"
      ]
    },
    {
      "cell_type": "code",
      "execution_count": 4,
      "metadata": {
        "colab": {
          "base_uri": "https://localhost:8080/"
        },
        "id": "oNHQX7gKBlNh",
        "outputId": "eca07277-4492-4600-b9c8-dd5bc1bf5696"
      },
      "outputs": [
        {
          "output_type": "stream",
          "name": "stdout",
          "text": [
            "33\n",
            "66\n",
            "22\n",
            "55\n",
            "11\n",
            "44\n",
            "77\n"
          ]
        }
      ],
      "source": [
        "## Set\n",
        "'''\n",
        "Use: Store unique items (no duplicates).\n",
        "Syntax: Curly braces {}\n",
        "Changeable (Mutable): Yes\n",
        "Unordered: Items have no fixed position.\n",
        "'''\n",
        "# Example:\n",
        "# my_set = {1, 2, 3, 4}\n",
        "\n",
        "\n",
        "## Set Functions / Methods\n",
        "\n",
        "'''\n",
        "add() → add single item\n",
        "s = {1,2}\n",
        "s.add(3)\n",
        "print(s)   # {1,2,3}\n",
        "\n",
        "update() → add multiple items\n",
        "s.update([4,5])\n",
        "print(s)   # {1,2,3,4,5}\n",
        "\n",
        "remove() → remove item (error if not found)\n",
        "s.remove(2)\n",
        "print(s)   # {1,3,4,5}\n",
        "\n",
        "discard() → remove item (no error if not found)\n",
        "s.discard(10)\n",
        "print(s)   # {1,3,4,5}\n",
        "\n",
        "pop() → remove random item\n",
        "s.pop()\n",
        "print(s)   # remaining set\n",
        "\n",
        "clear() → remove all items\n",
        "s.clear()\n",
        "print(s)   # set()\n",
        "\n",
        "copy() → copy set\n",
        "s2 = s.copy()\n",
        "\n",
        "'''\n",
        "\n",
        "## Convert Set\n",
        "\n",
        "'''\n",
        "\n",
        "set → list\n",
        "s = {1,2,3}\n",
        "l = list(s)   # [1,2,3]\n",
        "\n",
        "set → tuple\n",
        "t = tuple(s)  # (1,2,3)\n",
        "\n",
        "set → dict (only if pairs available)\n",
        "s = {(\"a\",1), (\"b\",2)}\n",
        "d = dict(s)   # {'a':1,'b':2}\n",
        "\n",
        "'''\n",
        "\n",
        "# Program\n",
        "\n",
        "s1 = {11, 22, 33, 44, 55, 66, 77}   # set\n",
        "\n",
        "for i in s1:    # directly loop\n",
        "    print(i)\n",
        "\n",
        "\n"
      ]
    },
    {
      "cell_type": "code",
      "source": [
        "## Dictionary\n",
        "\n",
        "'''\n",
        "\n",
        "Dictionary\n",
        "Use: Store data in key:value pairs.\n",
        "Syntax: Curly braces {} with keys and values.\n",
        "Changeable (Mutable): Yes\n",
        "Ordered (Python 3.7+): Yes, keeps insertion order.\n",
        "\n",
        "'''\n",
        "\n",
        "## Example:\n",
        "## my_dict = {\"a\": 1, \"b\": 2, \"c\": 3}\n",
        "\n",
        "\n",
        "## Dictionary Functions / Methods\n",
        "\n",
        "'''\n",
        "\n",
        "keys() → get all keys\n",
        "d = {\"a\":1,\"b\":2}\n",
        "print(d.keys())   # dict_keys(['a','b'])\n",
        "\n",
        "values() → get all values\n",
        "print(d.values()) # dict_values([1,2])\n",
        "\n",
        "items() → get key-value pairs\n",
        "print(d.items())  # dict_items([('a',1),('b',2)])\n",
        "\n",
        "get() → access value safely\n",
        "print(d.get(\"a\")) # 1\n",
        "\n",
        "update() → add/change multiple items\n",
        "d.update({\"c\":3,\"d\":4})\n",
        "print(d)\n",
        "\n",
        "pop() → remove by key\n",
        "d.pop(\"a\")\n",
        "print(d)\n",
        "\n",
        "popitem() → remove last key:value\n",
        "d.popitem()\n",
        "\n",
        "clear() → remove all\n",
        "d.clear()\n",
        "\n",
        "'''\n",
        "\n",
        "## Convert Dictionary\n",
        "\n",
        "'''\n",
        "\n",
        "dict → list\n",
        "d = {\"a\":1,\"b\":2}\n",
        "l = list(d)      # ['a','b'] (only keys)\n",
        "\n",
        "dict → set\n",
        "s = set(d)       # {'a','b'} (only keys)\n",
        "\n",
        "dict → tuple\n",
        "t = tuple(d)     # ('a','b')\n",
        "\n",
        "\n",
        "'''\n",
        "\n",
        "## Program\n",
        "\n",
        "d1 = {\"a\": 11, \"b\": 22, \"c\": 33}\n",
        "\n",
        "for k in d1:      # loop through keys\n",
        "    print(k, \":\", d1[k])\n",
        "\n"
      ],
      "metadata": {
        "colab": {
          "base_uri": "https://localhost:8080/"
        },
        "id": "RtBxFm5hCetW",
        "outputId": "ab5a583a-7f00-4ad9-aee5-2a3955cc32bf"
      },
      "execution_count": 3,
      "outputs": [
        {
          "output_type": "stream",
          "name": "stdout",
          "text": [
            "a : 11\n",
            "b : 22\n",
            "c : 33\n"
          ]
        }
      ]
    },
    {
      "cell_type": "code",
      "source": [
        "## Fibonacci Series Program\n",
        "\n",
        "r = int(input(\"Enter a Range=\"))\n",
        "a = -1\n",
        "b = 1\n",
        "for i in range(r):\n",
        "    c = a + b\n",
        "    print(c)\n",
        "    a = b\n",
        "    b = c"
      ],
      "metadata": {
        "colab": {
          "base_uri": "https://localhost:8080/"
        },
        "id": "CwY9hiB8C5gN",
        "outputId": "8af94047-fba7-478b-86cd-77d712872f28"
      },
      "execution_count": 7,
      "outputs": [
        {
          "output_type": "stream",
          "name": "stdout",
          "text": [
            "Enter a Range=5\n",
            "0\n",
            "1\n",
            "1\n",
            "2\n",
            "3\n"
          ]
        }
      ]
    },
    {
      "cell_type": "code",
      "source": [
        "## eval() Function\n",
        "\n",
        "# eval() runs a string like Python code.\n",
        "# It reads the string, calculates it, and gives the result.\n",
        "\n",
        "## Program\n",
        "\n",
        "x = 5\n",
        "print(eval(\"x + 10\"))   # 15\n",
        "print(eval(\"10 + 20\"))   # 30"
      ],
      "metadata": {
        "colab": {
          "base_uri": "https://localhost:8080/"
        },
        "id": "8R-Hvli8GIm5",
        "outputId": "57e237aa-db1a-492a-be87-5ff7102bee0c"
      },
      "execution_count": 8,
      "outputs": [
        {
          "output_type": "stream",
          "name": "stdout",
          "text": [
            "15\n",
            "30\n"
          ]
        }
      ]
    }
  ]
}