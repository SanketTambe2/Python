{
  "nbformat": 4,
  "nbformat_minor": 0,
  "metadata": {
    "colab": {
      "provenance": [],
      "authorship_tag": "ABX9TyMtA1oAbmRCWYi7I106p+Vb",
      "include_colab_link": true
    },
    "kernelspec": {
      "name": "python3",
      "display_name": "Python 3"
    },
    "language_info": {
      "name": "python"
    }
  },
  "cells": [
    {
      "cell_type": "markdown",
      "metadata": {
        "id": "view-in-github",
        "colab_type": "text"
      },
      "source": [
        "<a href=\"https://colab.research.google.com/github/SanketTambe2/Python/blob/main/Lecture_06.ipynb\" target=\"_parent\"><img src=\"https://colab.research.google.com/assets/colab-badge.svg\" alt=\"Open In Colab\"/></a>"
      ]
    },
    {
      "cell_type": "code",
      "execution_count": 3,
      "metadata": {
        "id": "rc1W6UYHzCBm"
      },
      "outputs": [],
      "source": [
        "## Lecture 06\n",
        "'''\n",
        "Nested Loop\n",
        "Loop inside another loop.\n",
        "Outer loop runs → then inner loop runs fully.\n",
        "Example -\n",
        "          for i in range(2):    # runs 2 times\n",
        "            for j in range(3):  # runs 3 times\n",
        "              print(i, j)\n",
        "\n",
        "While Loop\n",
        "Loop that runs again and again until condition is false.\n",
        "\n",
        "Example -\n",
        "          x = 1\n",
        "          while x <= 3:\n",
        "            print(x)\n",
        "            x = x + 1\n",
        "\n",
        "'''\n",
        "\n"
      ]
    },
    {
      "cell_type": "code",
      "source": [
        "## Simple Prime Number\n",
        "\n",
        "x=int(input(\"Enter a Number=\"))\n",
        "for i in range(2, x):\n",
        "    if x%i==0:\n",
        "        print(x, \"Is Not Prime Number\")\n",
        "        break\n",
        "else:\n",
        "    print(x, \"Is Prime Number\")\n",
        "\n",
        "\n",
        "\n",
        "\n",
        "\n"
      ],
      "metadata": {
        "colab": {
          "base_uri": "https://localhost:8080/"
        },
        "id": "0bkDfZ6NzMeb",
        "outputId": "b42dd05e-bb99-4aba-cbfa-a4d39b1f908c"
      },
      "execution_count": 6,
      "outputs": [
        {
          "output_type": "stream",
          "name": "stdout",
          "text": [
            "Enter a Number=9\n",
            "9 Is Not Prime Number\n"
          ]
        }
      ]
    },
    {
      "cell_type": "code",
      "source": [
        "## Prime Number\n",
        "# Finds and prints prime numbers between the given range.\n",
        "# Calculates the sum of the middle two numbers in that range.\n",
        "\n",
        "s=int(input(\"Enter a Starting Number=\"))\n",
        "r=int(input(\"Enter a Ending Number=\"))\n",
        "for x in range(s, r):\n",
        "    for i in range(2, x):\n",
        "        if x % i == 0:\n",
        "            break\n",
        "    else:\n",
        "        print(x, end=\"  \")\n",
        "\n",
        "print()  # new line\n",
        "\n",
        "# Middle two numbers sum\n",
        "nums = list(range(s, r+1))\n",
        "m1 = nums[len(nums)//2 - 1]\n",
        "m2 = nums[len(nums)//2]\n",
        "print(\"Sum of middle two numbers =\", m1 + m2)"
      ],
      "metadata": {
        "colab": {
          "base_uri": "https://localhost:8080/"
        },
        "id": "Q_Mf-A_J0vnU",
        "outputId": "3d870b16-3774-4637-e1b5-7d66d34c89d1"
      },
      "execution_count": 7,
      "outputs": [
        {
          "output_type": "stream",
          "name": "stdout",
          "text": [
            "Enter a Starting Number=1\n",
            "Enter a Ending Number=100\n",
            "1  2  3  5  7  11  13  17  19  23  29  31  37  41  43  47  53  59  61  67  71  73  79  83  89  97  \n",
            "Sum of middle two numbers = 101\n"
          ]
        }
      ]
    }
  ]
}