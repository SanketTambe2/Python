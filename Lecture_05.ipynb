{
  "nbformat": 4,
  "nbformat_minor": 0,
  "metadata": {
    "colab": {
      "provenance": [],
      "authorship_tag": "ABX9TyPVH3spP4JIZKfoGXMidoJ6",
      "include_colab_link": true
    },
    "kernelspec": {
      "name": "python3",
      "display_name": "Python 3"
    },
    "language_info": {
      "name": "python"
    }
  },
  "cells": [
    {
      "cell_type": "markdown",
      "metadata": {
        "id": "view-in-github",
        "colab_type": "text"
      },
      "source": [
        "<a href=\"https://colab.research.google.com/github/SanketTambe2/Python/blob/main/Lecture_05.ipynb\" target=\"_parent\"><img src=\"https://colab.research.google.com/assets/colab-badge.svg\" alt=\"Open In Colab\"/></a>"
      ]
    },
    {
      "cell_type": "code",
      "execution_count": null,
      "metadata": {
        "colab": {
          "base_uri": "https://localhost:8080/"
        },
        "id": "Tq5kqvJDpfqD",
        "outputId": "ee07eb3c-c864-41b9-e3f6-c3119b5c47ff"
      },
      "outputs": [
        {
          "output_type": "stream",
          "name": "stdout",
          "text": [
            "Enter First Number4\n",
            "4 Is Positive Number\n"
          ]
        }
      ],
      "source": [
        "# Conditinal Statement\n",
        "# Positive Or Negative\n",
        "\n",
        "# In Python, conditional statements are used to make decisions in code.\n",
        "'''They check if a condition is True or False and then run code accordingly.\n",
        "The main conditional statements are:\n",
        "if → runs code if condition is true\n",
        "elif → (else if) checks another condition if previous one is false\n",
        "else → runs code if none of the conditions are true'''\n",
        "\n",
        "# Code\n",
        "\n",
        "a=int(input(\"Enter First Number=\"))\n",
        "if a>0:\n",
        "  print(a, \"Is Positive Number\")\n",
        "elif a<0:\n",
        "  print(a, \"Is Negative Number\")\n",
        "elif a == 0:\n",
        "  print(a, \"is neither negative nor positive\")\n",
        "\n",
        "\n"
      ]
    },
    {
      "cell_type": "code",
      "source": [
        "# Find a Max Of Two Number\n",
        "\n",
        "a=int(input(\"Enter First Number=\"))\n",
        "b=int(input(\"Enter Second Number=\"))\n",
        "if a>b:\n",
        "  print(a, \"Is Greater\")\n",
        "elif a<b:\n",
        "  print(b, \"Is Greater\")\n",
        "else:\n",
        "  print(\"Both Are Same Equal\")"
      ],
      "metadata": {
        "colab": {
          "base_uri": "https://localhost:8080/"
        },
        "id": "XI9RV8lMrWH4",
        "outputId": "3d56acce-29e3-4775-bd01-ba2cf77795a1"
      },
      "execution_count": 29,
      "outputs": [
        {
          "output_type": "stream",
          "name": "stdout",
          "text": [
            "Enter First Number=5\n",
            "Enter Second Number=5\n",
            "Both Are Same Equal\n"
          ]
        }
      ]
    },
    {
      "cell_type": "code",
      "source": [
        "# Find Max Of Three Number\n",
        "\n",
        "a=int(input(\"Enter First Number=\"))\n",
        "b=int(input(\"Enter Second Number=\"))\n",
        "c=int(input(\"Enter Third Number=\"))\n",
        "if a>=b and a>=c:\n",
        "  print(a, \"Is Greater\")\n",
        "elif b>=a and b>=c:\n",
        "  print(b, \"Is Greater\")\n",
        "else:\n",
        "  print(c,\"Is Greater\")"
      ],
      "metadata": {
        "colab": {
          "base_uri": "https://localhost:8080/"
        },
        "id": "2m3hrWJwuCyr",
        "outputId": "df3ed0e2-7e26-437a-80fd-b34eae72babc"
      },
      "execution_count": 38,
      "outputs": [
        {
          "output_type": "stream",
          "name": "stdout",
          "text": [
            "Enter First Number=3\n",
            "Enter Second Number=2\n",
            "Enter Third Number=1\n",
            "3 Is Greater\n"
          ]
        }
      ]
    },
    {
      "cell_type": "code",
      "source": [
        "# Find Even And Odd\n",
        "\n",
        "a=int(input(\"Enter a Number=\"))\n",
        "if a%2==0:\n",
        "  print(a, \"Is Even Number\")\n",
        "else:\n",
        "  print(a, \"Is Odd Number\")\n"
      ],
      "metadata": {
        "colab": {
          "base_uri": "https://localhost:8080/"
        },
        "id": "dQ7Sp59jyVrw",
        "outputId": "d0498f2d-2a6c-4f49-faf2-65976e68e6c6"
      },
      "execution_count": null,
      "outputs": [
        {
          "output_type": "stream",
          "name": "stdout",
          "text": [
            "Enter a Number=1098\n",
            "1098 Is Even Number\n"
          ]
        }
      ]
    }
  ]
}