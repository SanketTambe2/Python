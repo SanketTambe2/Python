{
  "nbformat": 4,
  "nbformat_minor": 0,
  "metadata": {
    "colab": {
      "provenance": [],
      "authorship_tag": "ABX9TyOL70sjSpt3r7GadVen4f0g",
      "include_colab_link": true
    },
    "kernelspec": {
      "name": "python3",
      "display_name": "Python 3"
    },
    "language_info": {
      "name": "python"
    }
  },
  "cells": [
    {
      "cell_type": "markdown",
      "metadata": {
        "id": "view-in-github",
        "colab_type": "text"
      },
      "source": [
        "<a href=\"https://colab.research.google.com/github/SanketTambe2/Python/blob/main/Lecture_05.ipynb\" target=\"_parent\"><img src=\"https://colab.research.google.com/assets/colab-badge.svg\" alt=\"Open In Colab\"/></a>"
      ]
    },
    {
      "cell_type": "code",
      "execution_count": null,
      "metadata": {
        "id": "K6jHtM7jrPvL"
      },
      "outputs": [],
      "source": [
        "'''\n",
        "## Identity Operators (is, is not)\n",
        "\n",
        "- Used to check if two variables refer to the same object in memory.\n",
        "- is → True if same object.\n",
        "- is not → True if different objects.\n",
        "- Works mostly with objects, not values.\n",
        "\n",
        "a = [1,2,3]\n",
        "b = a\n",
        "c = [1,2,3]\n",
        "\n",
        "- print(a is b)     # True  (same object)\n",
        "- print(a is c)     # False (different objects, same values)\n",
        "\n",
        "##  Membership Operators (in, not in)\n",
        "\n",
        "Used to check if a value exists inside a sequence (list, string, tuple, etc.).\n",
        "in → True if found.\n",
        "not in → True if not found.\n",
        "Commonly used with if conditions.\n",
        "\n",
        "nums = [10, 20, 30]\n",
        "print(20 in nums)       # True\n",
        "print(50 not in nums)   # True\n",
        "print('a' in \"apple\")   # True\n",
        "\n",
        "##  Iterative Statements\n",
        "\n",
        "Statements that repeat execution of a block of code.\n",
        "Examples → for loop, while loop.\n",
        "They save time by avoiding writing same code again.\n",
        "Often used with lists, ranges, conditions.\n",
        "\n",
        "'''"
      ]
    },
    {
      "cell_type": "code",
      "source": [
        "\n",
        "## For Loop\n",
        "'''\n",
        "range(start, stop, step)\n",
        "start → number where loop begins (default = 0).\n",
        "stop → number where loop ends (not included).\n",
        "step → how much to increase each time (default = 1).\n",
        "Example\n",
        "       for i in range(start, stop, step):\n",
        "        print(x)\n",
        "\n",
        "'''\n",
        "## ATM PIN verification program\n",
        "\n",
        "pin = 1234\n",
        "for i in range(3):\n",
        "  p = int(input(\"Enter The Pin\"))\n",
        "  if p == pin:\n",
        "    print(\"Correct Pin\")\n",
        "    print(\"Transaction Successfull\")\n",
        "    break\n",
        "  else:\n",
        "    print(\"Incorrect Pin\")\n",
        "else:\n",
        "  print(\"card block\")\n",
        "\n"
      ],
      "metadata": {
        "colab": {
          "base_uri": "https://localhost:8080/"
        },
        "id": "RP4vRXOVtRW7",
        "outputId": "cd87ae01-48ec-4a23-888a-721abaa60700"
      },
      "execution_count": 6,
      "outputs": [
        {
          "output_type": "stream",
          "name": "stdout",
          "text": [
            "Enter The Pin5555\n",
            "Incorrect Pin\n",
            "Enter The Pin1234\n",
            "Correct Pin\n",
            "Transaction Successfull\n"
          ]
        }
      ]
    },
    {
      "cell_type": "code",
      "source": [
        "## simple start Pattern\n",
        "\n",
        "for i in range(5):\n",
        "  print(\"*\" * (i+1))\n"
      ],
      "metadata": {
        "colab": {
          "base_uri": "https://localhost:8080/"
        },
        "id": "M8ShF9AzwK9_",
        "outputId": "8e6db5b4-c34f-49fe-c072-384e38703501"
      },
      "execution_count": 7,
      "outputs": [
        {
          "output_type": "stream",
          "name": "stdout",
          "text": [
            "*\n",
            "**\n",
            "***\n",
            "****\n",
            "*****\n"
          ]
        }
      ]
    },
    {
      "cell_type": "code",
      "source": [
        "## simple pyramid Pattern\n",
        "\n",
        "rows = 5\n",
        "for i in range(1, rows + 1):\n",
        "    print(\" \" * (rows - i) + \"*\" * (2 * i - 1))\n",
        "\n"
      ],
      "metadata": {
        "colab": {
          "base_uri": "https://localhost:8080/"
        },
        "id": "5mg7tR3uwjvr",
        "outputId": "d13b93a1-4d02-4cc9-bde0-ab12404e0640"
      },
      "execution_count": 12,
      "outputs": [
        {
          "output_type": "stream",
          "name": "stdout",
          "text": [
            "    *\n",
            "   ***\n",
            "  *****\n",
            " *******\n",
            "*********\n"
          ]
        }
      ]
    }
  ]
}