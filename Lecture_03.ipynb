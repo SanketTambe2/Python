{
  "nbformat": 4,
  "nbformat_minor": 0,
  "metadata": {
    "colab": {
      "provenance": [],
      "authorship_tag": "ABX9TyOEbiBhx6Pma+FKjQtkr+p4",
      "include_colab_link": true
    },
    "kernelspec": {
      "name": "python3",
      "display_name": "Python 3"
    },
    "language_info": {
      "name": "python"
    }
  },
  "cells": [
    {
      "cell_type": "markdown",
      "metadata": {
        "id": "view-in-github",
        "colab_type": "text"
      },
      "source": [
        "<a href=\"https://colab.research.google.com/github/SanketTambe2/Python/blob/main/Lecture_03.ipynb\" target=\"_parent\"><img src=\"https://colab.research.google.com/assets/colab-badge.svg\" alt=\"Open In Colab\"/></a>"
      ]
    },
    {
      "cell_type": "code",
      "execution_count": 9,
      "metadata": {
        "colab": {
          "base_uri": "https://localhost:8080/"
        },
        "id": "BDB9YPZegZCn",
        "outputId": "9bc7252b-e7c7-41d6-cb2e-cfb5693112db"
      },
      "outputs": [
        {
          "output_type": "stream",
          "name": "stdout",
          "text": [
            "Enter a number = 10\n",
            "Enter a number = 5\n",
            "Addition Is = 15\n",
            "Subtraction Is = 5\n",
            "Multiplication Is = 50\n",
            "Division Is = 2\n",
            "Remainder Is = 0\n"
          ]
        }
      ],
      "source": [
        "# Input Function\n",
        "'''\n",
        "- The input() function in Python is used to take input from the user.\n",
        "- When the program runs, it pauses and waits for the user to type something.\n",
        "- Whatever the user types is taken as a string (text).\n",
        "\n",
        "- Pauses program → waits for user to type.\n",
        "- Always returns string → even if you type a number.\n",
        "- Use conversion → int(), float() if you want numbers.\n",
        "\n",
        "- Prints the value stored in variable a.\n",
        "- If a = \"hello\", output → hello\n",
        "- If a = 10, output → 10\n",
        "\n",
        "- Difference:\n",
        "\" \" → fixed message (string literal)\n",
        "- a → variable’s value (user-defined / stored)\n",
        "\n",
        "- Example\n",
        "\n",
        "a = input(\"Enter anything: \")\n",
        "print(a, \"my name is sanket\")\n",
        "\n",
        "Enter anything: Hello\n",
        "Hello my name is sanket\n",
        "\n",
        " '''\n",
        "\n",
        "# Addition Program\n",
        "\n",
        "a = int(input(\"Enter a number = \"))\n",
        "b = int(input(\"Enter a number = \"))\n",
        "\n",
        "print(\"Addition Is =\", a + b)\n",
        "print(\"Subtraction Is =\", a - b)\n",
        "print(\"Multiplication Is =\", a * b)\n",
        "print(\"Division Is =\", a // b)\n",
        "print(\"Remainder Is =\", a % b)\n"
      ]
    },
    {
      "cell_type": "code",
      "source": [
        "# Area Of Circle\n",
        "\n",
        "r=float(input(\"Enter Radius =\"))\n",
        "print(\"Area Of Circle is\", 3.14 * r * r )"
      ],
      "metadata": {
        "colab": {
          "base_uri": "https://localhost:8080/"
        },
        "id": "fqaxoAlfipJw",
        "outputId": "732f791c-60b4-4fb7-bca9-5e5570f6f61f"
      },
      "execution_count": 4,
      "outputs": [
        {
          "output_type": "stream",
          "name": "stdout",
          "text": [
            "Enter Radius =5\n",
            "Area Of Circle is 78.5\n"
          ]
        }
      ]
    },
    {
      "cell_type": "code",
      "source": [
        "# Area Of reactangle\n",
        "\n",
        "l = float(input(\"Enter Length = \"))\n",
        "w = float(input(\"Enter Width = \"))\n",
        "print(\"Area Of Rectangle is\", l * w)"
      ],
      "metadata": {
        "colab": {
          "base_uri": "https://localhost:8080/"
        },
        "id": "4nE_O_TsjZl5",
        "outputId": "83d639a2-1601-49d0-ce4d-e3d168bb46eb"
      },
      "execution_count": 5,
      "outputs": [
        {
          "output_type": "stream",
          "name": "stdout",
          "text": [
            "Enter Length = 5\n",
            "Enter Width = 5\n",
            "Area Of Rectangle is 25.0\n"
          ]
        }
      ]
    },
    {
      "cell_type": "code",
      "source": [
        "# temperature program\n",
        "\n",
        "c = float(input(\"Enter Celsius = \"))        #  you give Celsius\n",
        "f = (c * 9/5) + 32                                   #  formula\n",
        "print(\"Fahrenheit =\", f)                          #  shows Fahrenheit"
      ],
      "metadata": {
        "id": "zjUOocCMqFSh"
      },
      "execution_count": null,
      "outputs": []
    }
  ]
}